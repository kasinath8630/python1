{
 "cells": [
  {
   "cell_type": "code",
   "execution_count": null,
   "id": "d943ba5d",
   "metadata": {},
   "outputs": [],
   "source": [
    "#1"
   ]
  },
  {
   "cell_type": "code",
   "execution_count": 13,
   "id": "918fd7b1",
   "metadata": {},
   "outputs": [
    {
     "name": "stdout",
     "output_type": "stream",
     "text": [
      "enter any stringabcdefgh\n",
      "AbCdEfGh\n"
     ]
    }
   ],
   "source": [
    "x=input('enter any string')\n",
    "i=0\n",
    "z=''\n",
    "while i<len(x):\n",
    "    if i%2==0:\n",
    "        z=z+(x[i].upper())\n",
    "    else:\n",
    "        z=z+(x[i])\n",
    "    i=i+1 \n",
    "print(z)\n",
    "        \n",
    "    "
   ]
  },
  {
   "cell_type": "code",
   "execution_count": null,
   "id": "d52ad97d",
   "metadata": {},
   "outputs": [],
   "source": [
    "#2"
   ]
  },
  {
   "cell_type": "code",
   "execution_count": 14,
   "id": "bda0c0f0",
   "metadata": {},
   "outputs": [
    {
     "name": "stdout",
     "output_type": "stream",
     "text": [
      "<class 'str'>\n",
      "<class 'float'>\n",
      "<class 'int'>\n",
      "<class 'str'>\n",
      "<class 'complex'>\n"
     ]
    }
   ],
   "source": [
    "x=['a',1.2,322,'abc',1+2j]\n",
    "y=0\n",
    "while y<len(x):\n",
    "    print(type (x[y]))\n",
    "    y=y+1"
   ]
  },
  {
   "cell_type": "code",
   "execution_count": null,
   "id": "e0d46028",
   "metadata": {},
   "outputs": [],
   "source": [
    "#3"
   ]
  },
  {
   "cell_type": "code",
   "execution_count": 5,
   "id": "f6248eaf",
   "metadata": {},
   "outputs": [
    {
     "name": "stdout",
     "output_type": "stream",
     "text": [
      "alphabet= abde\n",
      "number= 10\n"
     ]
    }
   ],
   "source": [
    "x=['a','b','1','2','3','d','e','4']\n",
    "y=0\n",
    "w=''\n",
    "v=0\n",
    "while y<len(x):\n",
    "    if x[y].isalpha():\n",
    "        w=w+x[y]\n",
    "    else:\n",
    "        v=v+int(x[y])\n",
    "    y=y+1\n",
    "print('alphabet=',w)\n",
    "print('number=',v)\n",
    "        \n",
    "    "
   ]
  },
  {
   "cell_type": "code",
   "execution_count": null,
   "id": "e1de7da4",
   "metadata": {},
   "outputs": [],
   "source": [
    "#4"
   ]
  },
  {
   "cell_type": "code",
   "execution_count": 6,
   "id": "5c16e07b",
   "metadata": {},
   "outputs": [
    {
     "name": "stdout",
     "output_type": "stream",
     "text": [
      "enter stringkasinath12345\n",
      "number= ['1', '2', '3', '4', '5']\n",
      "alphabets= ['k', 'a', 's', 'i', 'n', 'a', 't', 'h']\n"
     ]
    }
   ],
   "source": [
    "a=input('enter string')\n",
    "b=0\n",
    "c=''\n",
    "d=''\n",
    "while b!=len(a):\n",
    "    if a[b].isdigit():\n",
    "        c=c+' '+a[b]\n",
    "    else:\n",
    "            d=d+' '+a[b]\n",
    "    b=b+1\n",
    "print('number=',c.split())\n",
    "print('alphabets=',d.split())"
   ]
  },
  {
   "cell_type": "code",
   "execution_count": 7,
   "id": "c6fe31cc",
   "metadata": {},
   "outputs": [],
   "source": [
    "#5"
   ]
  },
  {
   "cell_type": "code",
   "execution_count": null,
   "id": "bd9c5bac",
   "metadata": {},
   "outputs": [],
   "source": []
  }
 ],
 "metadata": {
  "kernelspec": {
   "display_name": "Python 3 (ipykernel)",
   "language": "python",
   "name": "python3"
  },
  "language_info": {
   "codemirror_mode": {
    "name": "ipython",
    "version": 3
   },
   "file_extension": ".py",
   "mimetype": "text/x-python",
   "name": "python",
   "nbconvert_exporter": "python",
   "pygments_lexer": "ipython3",
   "version": "3.9.12"
  }
 },
 "nbformat": 4,
 "nbformat_minor": 5
}
