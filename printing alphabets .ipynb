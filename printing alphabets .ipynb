{
 "cells": [
  {
   "cell_type": "code",
   "execution_count": null,
   "id": "725e7a3a",
   "metadata": {},
   "outputs": [],
   "source": [
    "#print a"
   ]
  },
  {
   "cell_type": "code",
   "execution_count": 28,
   "id": "9a942155",
   "metadata": {},
   "outputs": [
    {
     "name": "stdout",
     "output_type": "stream",
     "text": [
      "* * *\n",
      "*   *\n",
      "* * *\n",
      "*   *\n"
     ]
    }
   ],
   "source": [
    "x=0\n",
    "while x<4:\n",
    "    if x==0:\n",
    "        print('* * *')\n",
    "    elif x==1:\n",
    "        print('*   *')\n",
    "    elif x==2:\n",
    "        print('* * *')\n",
    "    elif x==3:\n",
    "        print('*   *')\n",
    "    else:\n",
    "        print('* * *')\n",
    "    x=x+1          "
   ]
  },
  {
   "cell_type": "code",
   "execution_count": null,
   "id": "e8a06c29",
   "metadata": {},
   "outputs": [],
   "source": [
    "#print b"
   ]
  },
  {
   "cell_type": "code",
   "execution_count": 202,
   "id": "19299569",
   "metadata": {},
   "outputs": [
    {
     "name": "stdout",
     "output_type": "stream",
     "text": [
      "* * * *\n",
      "*    *\n",
      "* * *\n",
      "*    *\n",
      "* * * *\n"
     ]
    }
   ],
   "source": [
    "x=0\n",
    "while x<5:\n",
    "    if x==0:\n",
    "        print('* * * *')\n",
    "    elif x==1:\n",
    "        print('*    *')\n",
    "    elif x==2:\n",
    "        print('* * *')\n",
    "    elif x==3:\n",
    "        print('*    *')\n",
    "    elif x==4:\n",
    "        print('* * * *')\n",
    "    else:\n",
    "        print('* * * *')\n",
    "    x=x+1          "
   ]
  },
  {
   "cell_type": "code",
   "execution_count": null,
   "id": "acdbda03",
   "metadata": {},
   "outputs": [],
   "source": [
    "#print c"
   ]
  },
  {
   "cell_type": "code",
   "execution_count": 203,
   "id": "09788be7",
   "metadata": {},
   "outputs": [
    {
     "name": "stdout",
     "output_type": "stream",
     "text": [
      "* * * *\n",
      "*\n",
      "*\n",
      "*\n",
      "* * * *\n"
     ]
    }
   ],
   "source": [
    "x=0\n",
    "while x<5:\n",
    "    if x==0:\n",
    "        print('* * * *')\n",
    "    elif x==1:\n",
    "        print('*')\n",
    "    elif x==2:\n",
    "        print('*')\n",
    "    elif x==3:\n",
    "        print('*')\n",
    "    elif x==4:\n",
    "        print('* * * *')\n",
    "    else:\n",
    "        print('* * * *')\n",
    "    x=x+1          "
   ]
  },
  {
   "cell_type": "code",
   "execution_count": null,
   "id": "ab981007",
   "metadata": {},
   "outputs": [],
   "source": [
    "#print d"
   ]
  },
  {
   "cell_type": "code",
   "execution_count": 201,
   "id": "0afef392",
   "metadata": {},
   "outputs": [
    {
     "name": "stdout",
     "output_type": "stream",
     "text": [
      "*  * \n",
      "*    *\n",
      "*    *\n",
      "*    *\n",
      "*  *  \n"
     ]
    }
   ],
   "source": [
    "x=0\n",
    "while x<5:\n",
    "    if x==0:\n",
    "        print('*  * ')\n",
    "    elif x==1:\n",
    "        print('*    *')\n",
    "    elif x==2:\n",
    "        print('*    *')\n",
    "    elif x==3:\n",
    "        print('*    *')\n",
    "    elif x==4:\n",
    "        print('*  *  ')\n",
    "    else:\n",
    "        print('*  *  ')\n",
    "    x=x+1          "
   ]
  },
  {
   "cell_type": "code",
   "execution_count": null,
   "id": "a258372d",
   "metadata": {},
   "outputs": [],
   "source": [
    "#print e"
   ]
  },
  {
   "cell_type": "code",
   "execution_count": 105,
   "id": "e4ef9f9f",
   "metadata": {},
   "outputs": [
    {
     "name": "stdout",
     "output_type": "stream",
     "text": [
      "* * * * \n",
      "*\n",
      "* * * * \n",
      "* \n",
      "* * * *\n"
     ]
    }
   ],
   "source": [
    "x=0\n",
    "while x<5:\n",
    " if x==0:\n",
    "        print('* * * * ')\n",
    " elif x==1:\n",
    "        print('*')\n",
    " elif x==2:\n",
    "        print('* * * * ')\n",
    " elif x==3:\n",
    "        print('* ')\n",
    " elif x==4:\n",
    "        print('* * * *')\n",
    " x=x+1 "
   ]
  },
  {
   "cell_type": "code",
   "execution_count": null,
   "id": "6acb8e34",
   "metadata": {},
   "outputs": [],
   "source": [
    "#print f"
   ]
  },
  {
   "cell_type": "code",
   "execution_count": 101,
   "id": "d1989dca",
   "metadata": {},
   "outputs": [
    {
     "name": "stdout",
     "output_type": "stream",
     "text": [
      "* *  * *\n",
      "*\n",
      "* * * * \n",
      "* \n",
      "*\n"
     ]
    }
   ],
   "source": [
    "x=0\n",
    "while x<5:\n",
    " if x==0:\n",
    "        print('* *  * *')\n",
    " elif x==1:\n",
    "        print('*')\n",
    " elif x==2:\n",
    "        print('* * * * ')\n",
    " elif x==3:\n",
    "        print('* ')\n",
    " elif x==4:\n",
    "        print('*')\n",
    " x=x+1 "
   ]
  },
  {
   "cell_type": "code",
   "execution_count": 204,
   "id": "40a1a003",
   "metadata": {},
   "outputs": [],
   "source": [
    "#print g"
   ]
  },
  {
   "cell_type": "code",
   "execution_count": 133,
   "id": "aa6ff862",
   "metadata": {},
   "outputs": [
    {
     "name": "stdout",
     "output_type": "stream",
     "text": [
      "*  *  *\n",
      "*\n",
      "*     *  * \n",
      "*     *  *\n",
      "* * * *  *\n"
     ]
    }
   ],
   "source": [
    "x=0\n",
    "while x<5:\n",
    " if x==0:\n",
    "        print('*  *  *')\n",
    " elif x==1:\n",
    "        print('*')\n",
    " elif x==2:\n",
    "        print('*     *  * ')\n",
    " elif x==3:\n",
    "        print('*     *  *')\n",
    " elif x==4:\n",
    "        print('* * * *  *')\n",
    " x=x+1 "
   ]
  },
  {
   "cell_type": "code",
   "execution_count": null,
   "id": "d273c8e8",
   "metadata": {},
   "outputs": [],
   "source": [
    "#print h"
   ]
  },
  {
   "cell_type": "code",
   "execution_count": 153,
   "id": "ce88825f",
   "metadata": {},
   "outputs": [
    {
     "name": "stdout",
     "output_type": "stream",
     "text": [
      "*     *\n",
      "*     *\n",
      "* * * *\n",
      "*     * \n",
      "*     *\n"
     ]
    }
   ],
   "source": [
    "x=0\n",
    "while x<5:\n",
    " if x==0:\n",
    "        print('*     *')\n",
    " elif x==1:\n",
    "        print('*     *')\n",
    " elif x==2:\n",
    "        print('* * * *')\n",
    " elif x==3:\n",
    "        print('*     * ')\n",
    " elif x==4:\n",
    "        print('*     *')\n",
    " x=x+1 "
   ]
  },
  {
   "cell_type": "code",
   "execution_count": null,
   "id": "75b634da",
   "metadata": {},
   "outputs": [],
   "source": [
    "#print i"
   ]
  },
  {
   "cell_type": "code",
   "execution_count": 172,
   "id": "94ea101a",
   "metadata": {},
   "outputs": [
    {
     "name": "stdout",
     "output_type": "stream",
     "text": [
      "* * * * * * * * \n",
      "       *     \n",
      "       * \n",
      "       *     \n",
      " * * * * * * * * \n"
     ]
    }
   ],
   "source": [
    "x=0\n",
    "while x<5:\n",
    " if x==0:\n",
    "        print('* * * * * * * * ')\n",
    " elif x==1:\n",
    "        print('       *     ')\n",
    " elif x==2:\n",
    "        print('       * ')\n",
    " elif x==3:\n",
    "        print('       *     ')\n",
    " elif x==4:\n",
    "        print(' * * * * * * * * ')\n",
    " x=x+1 "
   ]
  },
  {
   "cell_type": "code",
   "execution_count": null,
   "id": "6d54233e",
   "metadata": {},
   "outputs": [],
   "source": [
    "#print j"
   ]
  },
  {
   "cell_type": "code",
   "execution_count": 211,
   "id": "06bfa17f",
   "metadata": {},
   "outputs": [
    {
     "name": "stdout",
     "output_type": "stream",
     "text": [
      "* * * * *\n",
      "    *\n",
      "    *\n",
      "*   *\n",
      "* * *\n"
     ]
    }
   ],
   "source": [
    "x=0\n",
    "while x<5:\n",
    " if x==0:\n",
    "        print('* * * * *')\n",
    " elif x==1:\n",
    "        print('    *')\n",
    " elif x==2:\n",
    "        print('    *')\n",
    " elif x==3:\n",
    "        print('*   *')\n",
    " elif x==4:\n",
    "        print('* * *')\n",
    " x=x+1 "
   ]
  },
  {
   "cell_type": "code",
   "execution_count": 205,
   "id": "718b2266",
   "metadata": {},
   "outputs": [],
   "source": [
    "# print k"
   ]
  },
  {
   "cell_type": "code",
   "execution_count": 220,
   "id": "7cab6c48",
   "metadata": {},
   "outputs": [
    {
     "name": "stdout",
     "output_type": "stream",
     "text": [
      "*    *\n",
      "*   *\n",
      "* *\n",
      "*  *\n",
      "*    *\n"
     ]
    }
   ],
   "source": [
    "x=0\n",
    "while x<5:\n",
    " if x==0:\n",
    "        print('*    *')\n",
    " elif x==1:\n",
    "        print('*   *')\n",
    " elif x==2:\n",
    "        print('* *')\n",
    " elif x==3:\n",
    "        print('*  *')\n",
    " elif x==4:\n",
    "        print('*    *')\n",
    " x=x+1 "
   ]
  },
  {
   "cell_type": "code",
   "execution_count": 221,
   "id": "75f9e8ed",
   "metadata": {},
   "outputs": [],
   "source": [
    "# print l"
   ]
  },
  {
   "cell_type": "code",
   "execution_count": 223,
   "id": "8120fb5d",
   "metadata": {},
   "outputs": [
    {
     "name": "stdout",
     "output_type": "stream",
     "text": [
      "*\n",
      "*\n",
      "*\n",
      "*\n",
      "* * * * *\n"
     ]
    }
   ],
   "source": [
    "x=0\n",
    "while x<5:\n",
    " if x==0:\n",
    "        print('*')\n",
    " elif x==1:\n",
    "        print('*')\n",
    " elif x==2:\n",
    "        print('*')\n",
    " elif x==3:\n",
    "        print('*')\n",
    " elif x==4:\n",
    "        print('* * * * *')\n",
    " x=x+1 "
   ]
  },
  {
   "cell_type": "code",
   "execution_count": 224,
   "id": "7aa94375",
   "metadata": {},
   "outputs": [],
   "source": [
    "# print m"
   ]
  },
  {
   "cell_type": "code",
   "execution_count": 261,
   "id": "7a708461",
   "metadata": {},
   "outputs": [
    {
     "name": "stdout",
     "output_type": "stream",
     "text": [
      "* *    * *\n",
      "*  *  *  *\n",
      "*   *    *\n",
      "*        *\n",
      "*        *\n"
     ]
    }
   ],
   "source": [
    "x=0\n",
    "while x<5:\n",
    " if x==0:\n",
    "        print('* *    * *')\n",
    " elif x==1:\n",
    "        print('*  *  *  *')\n",
    " elif x==2:\n",
    "        print('*   *    *')\n",
    " elif x==3:\n",
    "        print('*        *')\n",
    " elif x==4:\n",
    "        print('*        *')\n",
    " x=x+1 "
   ]
  },
  {
   "cell_type": "code",
   "execution_count": 262,
   "id": "3df88390",
   "metadata": {},
   "outputs": [],
   "source": [
    "# print n"
   ]
  },
  {
   "cell_type": "code",
   "execution_count": 83,
   "id": "dcb0d348",
   "metadata": {},
   "outputs": [
    {
     "name": "stdout",
     "output_type": "stream",
     "text": [
      "*       *\n",
      "* *     *\n",
      "*  *    *\n",
      "*   *   *\n",
      "*     * *\n",
      "*       *  \n"
     ]
    }
   ],
   "source": [
    "x=0\n",
    "while x<=5:\n",
    " if x==0:\n",
    "        print('*       *')\n",
    " elif x==1:\n",
    "        print('* *     *')\n",
    " elif x==2:\n",
    "        print('*  *    *')\n",
    " elif x==3:\n",
    "        print('*   *   *')\n",
    " elif x==4:\n",
    "        print('*     * *')\n",
    " elif x==5:\n",
    "        print('*       *  ')\n",
    " x=x+1 "
   ]
  },
  {
   "cell_type": "code",
   "execution_count": 84,
   "id": "f638a3b1",
   "metadata": {},
   "outputs": [],
   "source": [
    "#print o"
   ]
  },
  {
   "cell_type": "code",
   "execution_count": 147,
   "id": "d16eb591",
   "metadata": {},
   "outputs": [
    {
     "name": "stdout",
     "output_type": "stream",
     "text": [
      "    *  *   \n",
      " *        *\n",
      " *        *\n",
      " *        *\n",
      "    *  *   \n"
     ]
    }
   ],
   "source": [
    "x=0\n",
    "while x<5:\n",
    " if x==0:\n",
    "    print('    *  *   ')\n",
    " elif x==1:\n",
    "    print(' *        *')\n",
    " elif x==2:\n",
    "    print(' *        *')\n",
    " elif x==3:\n",
    "    print(' *        *')\n",
    " elif x==4:\n",
    "    print('    *  *   ')\n",
    " x=x+1"
   ]
  },
  {
   "cell_type": "code",
   "execution_count": 148,
   "id": "33d0bd66",
   "metadata": {},
   "outputs": [],
   "source": [
    "# print p"
   ]
  },
  {
   "cell_type": "code",
   "execution_count": 156,
   "id": "9ffae507",
   "metadata": {},
   "outputs": [
    {
     "name": "stdout",
     "output_type": "stream",
     "text": [
      "* * * *\n",
      "*     *\n",
      "* * * *\n",
      "*\n",
      "*\n"
     ]
    }
   ],
   "source": [
    "x=0\n",
    "while x<5:\n",
    " if x==0:\n",
    "    print('* * * *')\n",
    " elif x==1:\n",
    "    print('*     *')\n",
    " elif x==2:\n",
    "    print('* * * *')\n",
    " elif x==3:\n",
    "    print('*')\n",
    " elif x==4:\n",
    "    print('*')\n",
    " x=x+1"
   ]
  },
  {
   "cell_type": "code",
   "execution_count": 157,
   "id": "490a1dad",
   "metadata": {},
   "outputs": [],
   "source": [
    "# print q"
   ]
  },
  {
   "cell_type": "code",
   "execution_count": 9,
   "id": "c412fa86",
   "metadata": {},
   "outputs": [
    {
     "name": "stdout",
     "output_type": "stream",
     "text": [
      "    *  *   \n",
      " *        *\n",
      " *        *\n",
      "  *  *  *\n",
      "    *  *   \n",
      "         *\n"
     ]
    }
   ],
   "source": [
    "x=0\n",
    "while x<=5:\n",
    " if x==0:\n",
    "    print('    *  *   ')\n",
    " elif x==1:\n",
    "    print(' *        *')\n",
    " elif x==2:\n",
    "    print(' *        *')\n",
    " elif x==3:\n",
    "    print('  *  *  *')\n",
    " elif x==4:\n",
    "    print('    *  *   ')\n",
    " elif x==5:\n",
    "    print('         *')\n",
    " x=x+1"
   ]
  },
  {
   "cell_type": "code",
   "execution_count": 10,
   "id": "ab09cbe4",
   "metadata": {},
   "outputs": [],
   "source": [
    "#print r"
   ]
  },
  {
   "cell_type": "code",
   "execution_count": 15,
   "id": "eabfec2e",
   "metadata": {},
   "outputs": [
    {
     "name": "stdout",
     "output_type": "stream",
     "text": [
      "* * * *\n",
      "*     *\n",
      "* * * *\n",
      "*  *\n",
      "*    *\n"
     ]
    }
   ],
   "source": [
    "x=0\n",
    "while x<5:\n",
    " if x==0:\n",
    "    print('* * * *')\n",
    " elif x==1:\n",
    "    print('*     *')\n",
    " elif x==2:\n",
    "    print('* * * *')\n",
    " elif x==3:\n",
    "    print('*  *')\n",
    " elif x==4:\n",
    "    print('*    *')\n",
    " x=x+1"
   ]
  },
  {
   "cell_type": "code",
   "execution_count": 16,
   "id": "a0bf4bf9",
   "metadata": {},
   "outputs": [],
   "source": [
    "# print s"
   ]
  },
  {
   "cell_type": "code",
   "execution_count": 86,
   "id": "b1ca418e",
   "metadata": {},
   "outputs": [
    {
     "name": "stdout",
     "output_type": "stream",
     "text": [
      "*  *  *\n",
      "*   \n",
      "*  *  *\n",
      "      *\n",
      "*  *  * \n"
     ]
    }
   ],
   "source": [
    "x=0\n",
    "while x<5:\n",
    " if x==0:\n",
    "    print('*  *  *')\n",
    " elif x==1:\n",
    "    print('*   ')\n",
    " elif x==2:\n",
    "    print('*  *  *')\n",
    " elif x==3:\n",
    "    print('      *')\n",
    " elif x==4:\n",
    "    print('*  *  * ')\n",
    " x=x+1"
   ]
  },
  {
   "cell_type": "code",
   "execution_count": 87,
   "id": "72bdcd18",
   "metadata": {},
   "outputs": [],
   "source": [
    "#print t"
   ]
  },
  {
   "cell_type": "code",
   "execution_count": 92,
   "id": "85c52e03",
   "metadata": {},
   "outputs": [
    {
     "name": "stdout",
     "output_type": "stream",
     "text": [
      "*  *  *\n",
      "   *   \n",
      "   *  \n",
      "   *\n",
      "   *   \n"
     ]
    }
   ],
   "source": [
    "x=0\n",
    "while x<5:\n",
    " if x==0:\n",
    "    print('*  *  *')\n",
    " elif x==1:\n",
    "    print('   *   ')\n",
    " elif x==2:\n",
    "    print('   *  ')\n",
    " elif x==3:\n",
    "    print('   *')\n",
    " elif x==4:\n",
    "    print('   *   ')\n",
    " x=x+1"
   ]
  },
  {
   "cell_type": "code",
   "execution_count": 93,
   "id": "b182f7ee",
   "metadata": {},
   "outputs": [],
   "source": [
    "#print u"
   ]
  },
  {
   "cell_type": "code",
   "execution_count": 101,
   "id": "2e669396",
   "metadata": {},
   "outputs": [
    {
     "name": "stdout",
     "output_type": "stream",
     "text": [
      "*    *\n",
      "*    * \n",
      "*    *\n",
      "*    *\n",
      "*  * * \n"
     ]
    }
   ],
   "source": [
    "x=0\n",
    "while x<5:\n",
    " if x==0:\n",
    "    print('*    *')\n",
    " elif x==1:\n",
    "    print('*    * ')\n",
    " elif x==2:\n",
    "    print('*    *')\n",
    " elif x==3:\n",
    "    print('*    *')\n",
    " elif x==4:\n",
    "    print('*  * * ')\n",
    " x=x+1"
   ]
  },
  {
   "cell_type": "code",
   "execution_count": 102,
   "id": "f55e6aa1",
   "metadata": {},
   "outputs": [],
   "source": [
    "#print v"
   ]
  },
  {
   "cell_type": "code",
   "execution_count": 123,
   "id": "4818b31e",
   "metadata": {},
   "outputs": [
    {
     "name": "stdout",
     "output_type": "stream",
     "text": [
      "*      *\n",
      " *    * \n",
      "  *  *\n",
      "    *  \n"
     ]
    }
   ],
   "source": [
    "x=0\n",
    "while x<4:\n",
    " if x==0:\n",
    "    print('*      *')\n",
    " elif x==1:\n",
    "    print(' *    * ')\n",
    " elif x==2:\n",
    "    print('  *  *')\n",
    " elif x==3:\n",
    "    print('    *  ')\n",
    " \n",
    " x=x+1"
   ]
  },
  {
   "cell_type": "code",
   "execution_count": 124,
   "id": "ab67d276",
   "metadata": {},
   "outputs": [],
   "source": [
    "#print w"
   ]
  },
  {
   "cell_type": "code",
   "execution_count": 145,
   "id": "bc892862",
   "metadata": {},
   "outputs": [
    {
     "name": "stdout",
     "output_type": "stream",
     "text": [
      "*       *\n",
      "*       * \n",
      "*   *   *\n",
      "*   *   *\n",
      "* *   * *\n"
     ]
    }
   ],
   "source": [
    "x=0\n",
    "while x<5:\n",
    " if x==0:\n",
    "    print('*       *')\n",
    " elif x==1:\n",
    "    print('*       * ')\n",
    " elif x==2:\n",
    "    print('*   *   *')\n",
    " elif x==3:\n",
    "    print('*   *   *')\n",
    " elif x==4:\n",
    "    print('* *   * *')\n",
    " \n",
    " x=x+1"
   ]
  },
  {
   "cell_type": "code",
   "execution_count": 146,
   "id": "604044d1",
   "metadata": {},
   "outputs": [],
   "source": [
    "# print x"
   ]
  },
  {
   "cell_type": "code",
   "execution_count": 183,
   "id": "6545d630",
   "metadata": {},
   "outputs": [
    {
     "name": "stdout",
     "output_type": "stream",
     "text": [
      " *         * \n",
      "   *     *  \n",
      "      *      \n",
      "   *     *    \n",
      " *          *     \n"
     ]
    }
   ],
   "source": [
    "x=0\n",
    "while x<5:\n",
    " if x==0:\n",
    "    print(' *         * ')\n",
    " elif x==1:\n",
    "    print('   *     *  ')\n",
    " elif x==2:\n",
    "    print('      *      ')\n",
    " elif x==3:\n",
    "    print('   *     *    ')\n",
    " elif x==4:\n",
    "    print(' *          *     ')\n",
    " \n",
    " x=x+1"
   ]
  },
  {
   "cell_type": "code",
   "execution_count": 184,
   "id": "6cb12eb3",
   "metadata": {},
   "outputs": [],
   "source": [
    "# print y"
   ]
  },
  {
   "cell_type": "code",
   "execution_count": 185,
   "id": "f7c1a2f3",
   "metadata": {},
   "outputs": [
    {
     "name": "stdout",
     "output_type": "stream",
     "text": [
      " *         * \n",
      "   *     *  \n",
      "      *      \n",
      "      *    \n",
      "      *     \n"
     ]
    }
   ],
   "source": [
    "x=0\n",
    "while x<5:\n",
    " if x==0:\n",
    "    print(' *         * ')\n",
    " elif x==1:\n",
    "    print('   *     *  ')\n",
    " elif x==2:\n",
    "    print('      *      ')\n",
    " elif x==3: \n",
    "    print('      *    ')\n",
    " elif x==4:\n",
    "    print('      *     ')\n",
    " \n",
    " x=x+1"
   ]
  },
  {
   "cell_type": "code",
   "execution_count": 186,
   "id": "dd31af6f",
   "metadata": {},
   "outputs": [],
   "source": [
    "#print z"
   ]
  },
  {
   "cell_type": "code",
   "execution_count": 197,
   "id": "b6b8a5f0",
   "metadata": {},
   "outputs": [
    {
     "name": "stdout",
     "output_type": "stream",
     "text": [
      "* * * *\n",
      "     *  \n",
      "    *\n",
      "   *\n",
      "  *\n",
      " * * * *  \n"
     ]
    }
   ],
   "source": [
    "x=0\n",
    "while x<=5:\n",
    " if x==0:\n",
    "        print('* * * *')\n",
    " elif x==1:\n",
    "        print('     *  ')\n",
    " elif x==2:\n",
    "        print('    *')\n",
    " elif x==3:\n",
    "        print('   *')\n",
    " elif x==4:\n",
    "        print('  *')\n",
    " elif x==5:\n",
    "        print(' * * * *  ')\n",
    " x=x+1 "
   ]
  },
  {
   "cell_type": "code",
   "execution_count": 4,
   "id": "9edf46db",
   "metadata": {},
   "outputs": [
    {
     "name": "stdout",
     "output_type": "stream",
     "text": [
      "enter name : kasi vinaY\n",
      "*   *\n",
      "* *\n",
      "*\n",
      "* *\n",
      "*   *\n",
      "\n",
      "* * * *\n",
      "*     *\n",
      "*     *\n",
      "* * * *\n",
      "*     *\n",
      "\n",
      "  * *  \n",
      "*    \n",
      "  *\n",
      "    *\n",
      "*  *\n",
      " \n",
      "* * * *\n",
      "   *   \n",
      "   *   \n",
      "   *   \n",
      "* * * *\n",
      "\n",
      "*         * \n",
      " *       *\n",
      "  *     *\n",
      "   *   *\n",
      "     *\n",
      "\n",
      "* * * *\n",
      "   *   \n",
      "   *   \n",
      "   *   \n",
      "* * * *\n",
      "\n",
      "*       *\n",
      "* *     *\n",
      "*   *   *\n",
      "*     * *\n",
      "*       *\n",
      "\n",
      "* * * *\n",
      "*     *\n",
      "*     *\n",
      "* * * *\n",
      "*     *\n",
      "\n",
      "*       *\n",
      "  *   *\n",
      "    *\n",
      "    *\n",
      "    * \n",
      "\n"
     ]
    }
   ],
   "source": [
    "\n",
    "x=input('enter name : ')\n",
    "i=0\n",
    "while i<len(x):\n",
    "    if x[i]=='a' or x[i]=='A':\n",
    "        print('* * * *')\n",
    "        print('*     *')\n",
    "        print('*     *')\n",
    "        print('* * * *')\n",
    "        print('*     *\\n')\n",
    "    elif x[i]=='b' or x[i]=='B':\n",
    "        print('* * * *')\n",
    "        print('*    *')\n",
    "        print('* * *')\n",
    "        print('*    *')\n",
    "        print('* * * *\\n')\n",
    "    elif x[i]=='c' or x[i]=='C':\n",
    "        print('* * *')\n",
    "        print('*   ') \n",
    "        print('*   ')\n",
    "        print('* * *\\n')\n",
    "    elif x[i]=='d' or x[i]=='D':\n",
    "        print('* * ')\n",
    "        print('*   *')\n",
    "        print('*   *')\n",
    "        print('* *\\n')\n",
    "    elif x[i]=='e' or x[i]=='E':\n",
    "        print('* * *')\n",
    "        print('* ')\n",
    "        print('* * *')\n",
    "        print('* ')\n",
    "        print('* * *\\n')\n",
    "    elif x[i]=='f' or x[i]=='F':\n",
    "        print('* * *')\n",
    "        print('* ')\n",
    "        print('* * *')\n",
    "        print('* ')\n",
    "        print('*\\n')\n",
    "    elif x[i]=='g' or x[i]=='G':\n",
    "        print('* * * *')\n",
    "        print('* ')\n",
    "        print('*    * * *')\n",
    "        print('* * *    *\\n')\n",
    "    elif x[i]=='h' or x[i]=='H':\n",
    "        print('*   *')\n",
    "        print('*   *')\n",
    "        print('* * *')\n",
    "        print('*   *')\n",
    "        print('*   *\\n')\n",
    "    elif x[i]=='i' or x[i]=='I':\n",
    "        print('* * * *')\n",
    "        print('   *   ')\n",
    "        print('   *   ')\n",
    "        print('   *   ')\n",
    "        print('* * * *\\n')\n",
    "    elif x[i]=='j' or x[i]=='J':\n",
    "        print(' * * *')\n",
    "        print('     *')\n",
    "        print('     *')\n",
    "        print('  *  *')\n",
    "        print('   * *\\n')\n",
    "    elif x[i]=='k' or x[i]=='K':\n",
    "        print('*   *')\n",
    "        print('* *')\n",
    "        print('*')\n",
    "        print('* *')\n",
    "        print('*   *\\n')\n",
    "    elif x[i]=='L' or x[i]=='l':\n",
    "        print('* ')\n",
    "        print('*')\n",
    "        print('*')\n",
    "        print('* * * *\\n')\n",
    "    elif x[i]=='m' or x[i]=='M':\n",
    "        print('*       *')\n",
    "        print('* *  *  *')\n",
    "        print('*   *   *')\n",
    "        print('*       *')\n",
    "        print('*       *\\n')\n",
    "    elif x[i]=='n' or x[i]=='N':\n",
    "        print('*       *')\n",
    "        print('* *     *')\n",
    "        print('*   *   *')\n",
    "        print('*     * *')\n",
    "        print('*       *\\n')\n",
    "    elif x[i]=='o' or x[i]=='O':\n",
    "        print('   *    ')\n",
    "        print('*     *')\n",
    "        print('*     *')\n",
    "        print('   *\\n')\n",
    "    elif x[i]=='p' or x[i]=='P':\n",
    "        print('* * *')\n",
    "        print('*   *')\n",
    "        print('* * *')\n",
    "        print('*')\n",
    "        print('*\\n')\n",
    "    elif x[i]=='q' or x[i]=='Q':\n",
    "        print('   *    ')\n",
    "        print('*     *')\n",
    "        print('*     *')\n",
    "        print('   *')\n",
    "        print('      *\\n')\n",
    "    elif x[i]=='r'or x[i]=='R':\n",
    "        print('* * * * ')\n",
    "        print('*    *')\n",
    "        print('*  *')\n",
    "        print('*    *')\n",
    "        print('*      *\\n')\n",
    "    elif x[i]=='s'or x[i]=='S': \n",
    "        print('  * *  ')\n",
    "        print('*    ')\n",
    "        print('  *')\n",
    "        print('    *')\n",
    "        print('*  *\\n ')\n",
    "    elif x[i]=='t'or x[i]=='T':\n",
    "        print('* * * * * ')\n",
    "        print('    *')\n",
    "        print('    *')\n",
    "        print('    *\\n')\n",
    "    elif x[i]=='u'or x[i]=='U':\n",
    "        print('*        * ')\n",
    "        print('*        *')\n",
    "        print(' *     *')\n",
    "        print('   ***\\n')\n",
    "    elif x[i]=='v'or x[i]=='V':\n",
    "        print('*         * ')\n",
    "        print(' *       *')\n",
    "        print('  *     *')\n",
    "        print('   *   *')\n",
    "        print('     *\\n')\n",
    "    elif x[i]=='w' or x[i]=='W':\n",
    "        print('*          *           *')\n",
    "        print(' *       *  *         *')\n",
    "        print('  *     *     *      *')\n",
    "        print('   *   *        *   *')\n",
    "        print('     *            *\\n')\n",
    "    elif x[i]=='X' or x[i]=='x':\n",
    "        print(' *        *')\n",
    "        print('   *    *')\n",
    "        print('      *')\n",
    "        print('   *    *')\n",
    "        print(' *         *\\n')\n",
    "    elif x[i]=='y' or x[i]=='Y':\n",
    "        print('*       *')\n",
    "        print('  *   *')\n",
    "        print('    *')\n",
    "        print('    *')\n",
    "        print('    * \\n')\n",
    "    elif x[i]=='z' or x[i]=='Z':\n",
    "        print('* * * * *')\n",
    "        print('      *')\n",
    "        print('    *')\n",
    "        print('  *')\n",
    "        print('* * * * *\\n')\n",
    "    i=i+1          \n",
    "\n",
    " "
   ]
  },
  {
   "cell_type": "code",
   "execution_count": null,
   "id": "a40b79ae",
   "metadata": {},
   "outputs": [],
   "source": []
  },
  {
   "cell_type": "code",
   "execution_count": null,
   "id": "61395654",
   "metadata": {},
   "outputs": [],
   "source": []
  }
 ],
 "metadata": {
  "kernelspec": {
   "display_name": "Python 3 (ipykernel)",
   "language": "python",
   "name": "python3"
  },
  "language_info": {
   "codemirror_mode": {
    "name": "ipython",
    "version": 3
   },
   "file_extension": ".py",
   "mimetype": "text/x-python",
   "name": "python",
   "nbconvert_exporter": "python",
   "pygments_lexer": "ipython3",
   "version": "3.9.12"
  }
 },
 "nbformat": 4,
 "nbformat_minor": 5
}
